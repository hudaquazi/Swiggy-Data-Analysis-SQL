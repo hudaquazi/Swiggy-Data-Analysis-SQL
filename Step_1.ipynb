{
 "cells": [
  {
   "cell_type": "code",
   "execution_count": 1,
   "id": "b6c31f70",
   "metadata": {},
   "outputs": [],
   "source": [
    "import pandas as pd \n",
    "import re"
   ]
  },
  {
   "cell_type": "code",
   "execution_count": 2,
   "id": "cb1ec76a",
   "metadata": {},
   "outputs": [
    {
     "data": {
      "text/plain": [
       "(197430, 9)"
      ]
     },
     "execution_count": 2,
     "metadata": {},
     "output_type": "execute_result"
    }
   ],
   "source": [
    "df = pd.read_csv('swiggy_all_menus_india.csv')\n",
    "df.shape"
   ]
  },
  {
   "cell_type": "code",
   "execution_count": 3,
   "id": "2aeee85c",
   "metadata": {},
   "outputs": [
    {
     "name": "stdout",
     "output_type": "stream",
     "text": [
      "Number of malformed rows: 9630\n",
      "Malformed row indices (0-based): [428, 1298, 1299, 1300, 1301, 1618, 1652, 1653, 1654, 1655]\n"
     ]
    }
   ],
   "source": [
    "# Check for rows with incorrect number of columns by reading the CSV file in raw mode\n",
    "with open('swiggy_all_menus_india.csv', 'r', encoding='utf-8') as f:\n",
    "    lines = f.readlines()\n",
    "\n",
    "expected_cols = len(df.columns)\n",
    "malformed_rows = [i for i, line in enumerate(lines) if len(line.strip().split(',')) != expected_cols]\n",
    "\n",
    "print(f\"Number of malformed rows: {len(malformed_rows)}\")\n",
    "if malformed_rows:\n",
    "    print(f\"Malformed row indices (0-based): {malformed_rows[:10]}\")  # Show first 10 for inspection\n",
    "else:\n",
    "    print(\"All rows have the correct number of columns.\")"
   ]
  },
  {
   "cell_type": "code",
   "execution_count": 4,
   "id": "ce4e0abe",
   "metadata": {},
   "outputs": [],
   "source": [
    "# Extract and print the malformed rows for inspection\n",
    "malformed_lines = [lines[i] for i in malformed_rows]\n",
    "\n",
    "# Attempt to correct malformed rows by joining split lines if possible\n",
    "# (Assuming the issue is due to line breaks within quoted fields)\n",
    "corrected_lines = []\n",
    "skip_indices = set()\n",
    "i = 0\n",
    "while i < len(lines):\n",
    "    if i in malformed_rows:\n",
    "        temp_line = lines[i].rstrip('\\n')\n",
    "        # Keep joining next lines until the number of columns matches expected_cols\n",
    "        j = i + 1\n",
    "        while len(temp_line.split(',')) < expected_cols and j < len(lines):\n",
    "            temp_line += lines[j].rstrip('\\n')\n",
    "            skip_indices.add(j)\n",
    "            j += 1\n",
    "        corrected_lines.append(temp_line + '\\n')\n",
    "        i = j\n",
    "    else:\n",
    "        if i not in skip_indices:\n",
    "            corrected_lines.append(lines[i])\n",
    "        i += 1\n",
    "\n",
    "# Save the corrected lines to a new CSV file\n",
    "with open('swiggy_all_menus_india_cleaned.csv', 'w', encoding='utf-8') as f_out:\n",
    "    f_out.writelines(corrected_lines)"
   ]
  },
  {
   "cell_type": "code",
   "execution_count": 5,
   "id": "7ce773ff",
   "metadata": {},
   "outputs": [
    {
     "data": {
      "text/plain": [
       "(197430, 9)"
      ]
     },
     "execution_count": 5,
     "metadata": {},
     "output_type": "execute_result"
    }
   ],
   "source": [
    "df = pd.read_csv('swiggy_all_menus_india_cleaned.csv')\n",
    "df.shape"
   ]
  },
  {
   "cell_type": "code",
   "execution_count": 6,
   "id": "2f61e787",
   "metadata": {},
   "outputs": [
    {
     "data": {
      "text/html": [
       "<div>\n",
       "<style scoped>\n",
       "    .dataframe tbody tr th:only-of-type {\n",
       "        vertical-align: middle;\n",
       "    }\n",
       "\n",
       "    .dataframe tbody tr th {\n",
       "        vertical-align: top;\n",
       "    }\n",
       "\n",
       "    .dataframe thead th {\n",
       "        text-align: right;\n",
       "    }\n",
       "</style>\n",
       "<table border=\"1\" class=\"dataframe\">\n",
       "  <thead>\n",
       "    <tr style=\"text-align: right;\">\n",
       "      <th></th>\n",
       "      <th>State</th>\n",
       "      <th>City</th>\n",
       "      <th>Restaurant Name</th>\n",
       "      <th>Location</th>\n",
       "      <th>Category</th>\n",
       "      <th>Dish Name</th>\n",
       "      <th>Price (INR)</th>\n",
       "      <th>Rating</th>\n",
       "      <th>Rating Count</th>\n",
       "    </tr>\n",
       "  </thead>\n",
       "  <tbody>\n",
       "    <tr>\n",
       "      <th>0</th>\n",
       "      <td>Karnataka</td>\n",
       "      <td>Bengaluru</td>\n",
       "      <td>Anand Sweets &amp; Savouries</td>\n",
       "      <td>Rajarajeshwari Nagar</td>\n",
       "      <td>Snack</td>\n",
       "      <td>Butter Murukku-200gm</td>\n",
       "      <td>133.9</td>\n",
       "      <td>0.0</td>\n",
       "      <td>0</td>\n",
       "    </tr>\n",
       "    <tr>\n",
       "      <th>1</th>\n",
       "      <td>Karnataka</td>\n",
       "      <td>Bengaluru</td>\n",
       "      <td>Srinidhi Sagar Deluxe</td>\n",
       "      <td>Kengeri</td>\n",
       "      <td>Recommended</td>\n",
       "      <td>Badam Milk</td>\n",
       "      <td>52.0</td>\n",
       "      <td>4.5</td>\n",
       "      <td>25</td>\n",
       "    </tr>\n",
       "    <tr>\n",
       "      <th>2</th>\n",
       "      <td>Karnataka</td>\n",
       "      <td>Bengaluru</td>\n",
       "      <td>Srinidhi Sagar Deluxe</td>\n",
       "      <td>Kengeri</td>\n",
       "      <td>Recommended</td>\n",
       "      <td>Chow Chow Bath</td>\n",
       "      <td>117.0</td>\n",
       "      <td>4.7</td>\n",
       "      <td>48</td>\n",
       "    </tr>\n",
       "    <tr>\n",
       "      <th>3</th>\n",
       "      <td>Karnataka</td>\n",
       "      <td>Bengaluru</td>\n",
       "      <td>Srinidhi Sagar Deluxe</td>\n",
       "      <td>Kengeri</td>\n",
       "      <td>Recommended</td>\n",
       "      <td>Kesari Bath</td>\n",
       "      <td>65.0</td>\n",
       "      <td>4.6</td>\n",
       "      <td>65</td>\n",
       "    </tr>\n",
       "    <tr>\n",
       "      <th>4</th>\n",
       "      <td>Karnataka</td>\n",
       "      <td>Bengaluru</td>\n",
       "      <td>Srinidhi Sagar Deluxe</td>\n",
       "      <td>Kengeri</td>\n",
       "      <td>Recommended</td>\n",
       "      <td>Mix Raitha</td>\n",
       "      <td>130.0</td>\n",
       "      <td>0.0</td>\n",
       "      <td>0</td>\n",
       "    </tr>\n",
       "  </tbody>\n",
       "</table>\n",
       "</div>"
      ],
      "text/plain": [
       "       State       City           Restaurant Name              Location  \\\n",
       "0  Karnataka  Bengaluru  Anand Sweets & Savouries  Rajarajeshwari Nagar   \n",
       "1  Karnataka  Bengaluru     Srinidhi Sagar Deluxe               Kengeri   \n",
       "2  Karnataka  Bengaluru     Srinidhi Sagar Deluxe               Kengeri   \n",
       "3  Karnataka  Bengaluru     Srinidhi Sagar Deluxe               Kengeri   \n",
       "4  Karnataka  Bengaluru     Srinidhi Sagar Deluxe               Kengeri   \n",
       "\n",
       "      Category             Dish Name  Price (INR)  Rating  Rating Count  \n",
       "0        Snack  Butter Murukku-200gm        133.9     0.0             0  \n",
       "1  Recommended            Badam Milk         52.0     4.5            25  \n",
       "2  Recommended        Chow Chow Bath        117.0     4.7            48  \n",
       "3  Recommended           Kesari Bath         65.0     4.6            65  \n",
       "4  Recommended            Mix Raitha        130.0     0.0             0  "
      ]
     },
     "execution_count": 6,
     "metadata": {},
     "output_type": "execute_result"
    }
   ],
   "source": [
    "df.head()"
   ]
  },
  {
   "cell_type": "code",
   "execution_count": 7,
   "id": "512646e1",
   "metadata": {},
   "outputs": [],
   "source": [
    "df.rename(columns={'Restaurant Name': 'Restaurant_Name','Dish Name':'Dish_Name','Price (INR)': 'Price_INR', 'Rating Count':'Rating_Count'}, inplace=True)"
   ]
  },
  {
   "cell_type": "code",
   "execution_count": 8,
   "id": "33b49721",
   "metadata": {},
   "outputs": [],
   "source": [
    "def remove_special_chars(val):\n",
    "    if isinstance(val, str):\n",
    "        return re.sub(r'[^A-Za-z0-9\\s]', '', val)\n",
    "    return val\n",
    "\n",
    "df = df.applymap(remove_special_chars)"
   ]
  },
  {
   "cell_type": "code",
   "execution_count": 9,
   "id": "3ebebf9f",
   "metadata": {},
   "outputs": [],
   "source": [
    "df = df.applymap(lambda x: x.strip() if isinstance(x, str) else x)"
   ]
  },
  {
   "cell_type": "code",
   "execution_count": 10,
   "id": "8a26732a",
   "metadata": {},
   "outputs": [],
   "source": [
    "df = df.applymap(lambda x: re.sub(r'\\s+', ' ', x) if isinstance(x, str) else x)"
   ]
  },
  {
   "cell_type": "code",
   "execution_count": 11,
   "id": "53b4587c",
   "metadata": {},
   "outputs": [
    {
     "data": {
      "text/html": [
       "<div>\n",
       "<style scoped>\n",
       "    .dataframe tbody tr th:only-of-type {\n",
       "        vertical-align: middle;\n",
       "    }\n",
       "\n",
       "    .dataframe tbody tr th {\n",
       "        vertical-align: top;\n",
       "    }\n",
       "\n",
       "    .dataframe thead th {\n",
       "        text-align: right;\n",
       "    }\n",
       "</style>\n",
       "<table border=\"1\" class=\"dataframe\">\n",
       "  <thead>\n",
       "    <tr style=\"text-align: right;\">\n",
       "      <th></th>\n",
       "      <th>State</th>\n",
       "      <th>City</th>\n",
       "      <th>Restaurant_Name</th>\n",
       "      <th>Location</th>\n",
       "      <th>Category</th>\n",
       "      <th>Dish_Name</th>\n",
       "      <th>Price_INR</th>\n",
       "      <th>Rating</th>\n",
       "      <th>Rating_Count</th>\n",
       "    </tr>\n",
       "  </thead>\n",
       "  <tbody>\n",
       "    <tr>\n",
       "      <th>0</th>\n",
       "      <td>Karnataka</td>\n",
       "      <td>Bengaluru</td>\n",
       "      <td>Anand Sweets Savouries</td>\n",
       "      <td>Rajarajeshwari Nagar</td>\n",
       "      <td>Snack</td>\n",
       "      <td>Butter Murukku200gm</td>\n",
       "      <td>133.9</td>\n",
       "      <td>0.0</td>\n",
       "      <td>0</td>\n",
       "    </tr>\n",
       "    <tr>\n",
       "      <th>1</th>\n",
       "      <td>Karnataka</td>\n",
       "      <td>Bengaluru</td>\n",
       "      <td>Srinidhi Sagar Deluxe</td>\n",
       "      <td>Kengeri</td>\n",
       "      <td>Recommended</td>\n",
       "      <td>Badam Milk</td>\n",
       "      <td>52.0</td>\n",
       "      <td>4.5</td>\n",
       "      <td>25</td>\n",
       "    </tr>\n",
       "    <tr>\n",
       "      <th>2</th>\n",
       "      <td>Karnataka</td>\n",
       "      <td>Bengaluru</td>\n",
       "      <td>Srinidhi Sagar Deluxe</td>\n",
       "      <td>Kengeri</td>\n",
       "      <td>Recommended</td>\n",
       "      <td>Chow Chow Bath</td>\n",
       "      <td>117.0</td>\n",
       "      <td>4.7</td>\n",
       "      <td>48</td>\n",
       "    </tr>\n",
       "    <tr>\n",
       "      <th>3</th>\n",
       "      <td>Karnataka</td>\n",
       "      <td>Bengaluru</td>\n",
       "      <td>Srinidhi Sagar Deluxe</td>\n",
       "      <td>Kengeri</td>\n",
       "      <td>Recommended</td>\n",
       "      <td>Kesari Bath</td>\n",
       "      <td>65.0</td>\n",
       "      <td>4.6</td>\n",
       "      <td>65</td>\n",
       "    </tr>\n",
       "    <tr>\n",
       "      <th>4</th>\n",
       "      <td>Karnataka</td>\n",
       "      <td>Bengaluru</td>\n",
       "      <td>Srinidhi Sagar Deluxe</td>\n",
       "      <td>Kengeri</td>\n",
       "      <td>Recommended</td>\n",
       "      <td>Mix Raitha</td>\n",
       "      <td>130.0</td>\n",
       "      <td>0.0</td>\n",
       "      <td>0</td>\n",
       "    </tr>\n",
       "  </tbody>\n",
       "</table>\n",
       "</div>"
      ],
      "text/plain": [
       "       State       City         Restaurant_Name              Location  \\\n",
       "0  Karnataka  Bengaluru  Anand Sweets Savouries  Rajarajeshwari Nagar   \n",
       "1  Karnataka  Bengaluru   Srinidhi Sagar Deluxe               Kengeri   \n",
       "2  Karnataka  Bengaluru   Srinidhi Sagar Deluxe               Kengeri   \n",
       "3  Karnataka  Bengaluru   Srinidhi Sagar Deluxe               Kengeri   \n",
       "4  Karnataka  Bengaluru   Srinidhi Sagar Deluxe               Kengeri   \n",
       "\n",
       "      Category            Dish_Name  Price_INR  Rating  Rating_Count  \n",
       "0        Snack  Butter Murukku200gm      133.9     0.0             0  \n",
       "1  Recommended           Badam Milk       52.0     4.5            25  \n",
       "2  Recommended       Chow Chow Bath      117.0     4.7            48  \n",
       "3  Recommended          Kesari Bath       65.0     4.6            65  \n",
       "4  Recommended           Mix Raitha      130.0     0.0             0  "
      ]
     },
     "execution_count": 11,
     "metadata": {},
     "output_type": "execute_result"
    }
   ],
   "source": [
    "df.head()"
   ]
  },
  {
   "cell_type": "code",
   "execution_count": 12,
   "id": "00873ec0",
   "metadata": {},
   "outputs": [],
   "source": [
    "df.to_csv('cleaned_swiggy_menu.csv', index=False)"
   ]
  },
  {
   "cell_type": "code",
   "execution_count": null,
   "id": "241f6ef4",
   "metadata": {},
   "outputs": [],
   "source": []
  }
 ],
 "metadata": {
  "kernelspec": {
   "display_name": "Python 3",
   "language": "python",
   "name": "python3"
  },
  "language_info": {
   "codemirror_mode": {
    "name": "ipython",
    "version": 3
   },
   "file_extension": ".py",
   "mimetype": "text/x-python",
   "name": "python",
   "nbconvert_exporter": "python",
   "pygments_lexer": "ipython3",
   "version": "3.10.2"
  }
 },
 "nbformat": 4,
 "nbformat_minor": 5
}
